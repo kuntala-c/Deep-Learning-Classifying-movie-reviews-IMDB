{
  "nbformat": 4,
  "nbformat_minor": 0,
  "metadata": {
    "colab": {
      "name": "Classifying_movie_reviews_IMDB.ipynb",
      "provenance": [],
      "collapsed_sections": []
    },
    "kernelspec": {
      "name": "python3",
      "display_name": "Python 3"
    },
    "language_info": {
      "name": "python"
    }
  },
  "cells": [
    {
      "cell_type": "markdown",
      "source": [
        "Classifying movie reviews: A binary classification example\n",
        "\n"
      ],
      "metadata": {
        "id": "J8qoVgreeCST"
      }
    },
    {
      "cell_type": "markdown",
      "source": [
        "# Aim\n",
        "\n",
        "**We will learn to classify movie reviews as positive or negative, based on the text content of the reviews.**"
      ],
      "metadata": {
        "id": "TCbb-cNkUF8w"
      }
    },
    {
      "cell_type": "markdown",
      "source": [
        "# The IMDB dataset"
      ],
      "metadata": {
        "id": "CDcwRPJKC7Zj"
      }
    },
    {
      "cell_type": "markdown",
      "source": [
        "We’ll work with the IMDB dataset: a set of 50,000 highly polarized reviews from the Internet Movie Database. They’re split into 25,000 reviews for training and 25,000 reviews for testing, each set consisting of 50% negative and 50% positive reviews. \n",
        "\n",
        "This dataset comes packaged with Keras and has already been preprocessed: the reviews (sequences of words) have been turned into sequences of integers, where each integer stands for a specific word in a dictionary. This enables us to focus on model building, training, and evaluation."
      ],
      "metadata": {
        "id": "PVx8fHzDCytn"
      }
    },
    {
      "cell_type": "code",
      "source": [
        "from tensorflow.keras.datasets import imdb\n",
        "import warnings\n",
        "warnings.filterwarnings(\"ignore\")\n",
        "import numpy as np\n",
        "from tensorflow import keras\n",
        "from tensorflow.keras import layers\n",
        "import matplotlib.pyplot as plt"
      ],
      "metadata": {
        "id": "HRU6796jd9Qz"
      },
      "execution_count": 23,
      "outputs": []
    },
    {
      "cell_type": "markdown",
      "source": [
        "## Loading the IMDB dataset"
      ],
      "metadata": {
        "id": "xrXqLzrHDKIK"
      }
    },
    {
      "cell_type": "code",
      "source": [
        "(train_data, train_labels), (test_data, test_labels) = imdb.load_data(\n",
        "num_words=10000)"
      ],
      "metadata": {
        "colab": {
          "base_uri": "https://localhost:8080/"
        },
        "id": "WqLTfSVgbVKB",
        "outputId": "ceb141db-01f3-4c0f-bfe7-6da5a1b15a73"
      },
      "execution_count": 2,
      "outputs": [
        {
          "output_type": "stream",
          "name": "stdout",
          "text": [
            "Downloading data from https://storage.googleapis.com/tensorflow/tf-keras-datasets/imdb.npz\n",
            "17465344/17464789 [==============================] - 0s 0us/step\n",
            "17473536/17464789 [==============================] - 0s 0us/step\n"
          ]
        }
      ]
    },
    {
      "cell_type": "markdown",
      "source": [
        "**The variables train_data and test_data are lists of reviews; each review is a list of word indices (encoding a sequence of words). train_labels and test_labels are lists of 0s and 1s, where 0 stands for negative and 1 stands for positive:**"
      ],
      "metadata": {
        "id": "6bqOerl-DjQO"
      }
    },
    {
      "cell_type": "code",
      "source": [
        "train_data[0]"
      ],
      "metadata": {
        "colab": {
          "base_uri": "https://localhost:8080/"
        },
        "id": "ytz4ZuBBbbw4",
        "outputId": "97302ed8-0220-4a51-8a54-682398b20fe2"
      },
      "execution_count": 3,
      "outputs": [
        {
          "output_type": "execute_result",
          "data": {
            "text/plain": [
              "[1,\n",
              " 14,\n",
              " 22,\n",
              " 16,\n",
              " 43,\n",
              " 530,\n",
              " 973,\n",
              " 1622,\n",
              " 1385,\n",
              " 65,\n",
              " 458,\n",
              " 4468,\n",
              " 66,\n",
              " 3941,\n",
              " 4,\n",
              " 173,\n",
              " 36,\n",
              " 256,\n",
              " 5,\n",
              " 25,\n",
              " 100,\n",
              " 43,\n",
              " 838,\n",
              " 112,\n",
              " 50,\n",
              " 670,\n",
              " 2,\n",
              " 9,\n",
              " 35,\n",
              " 480,\n",
              " 284,\n",
              " 5,\n",
              " 150,\n",
              " 4,\n",
              " 172,\n",
              " 112,\n",
              " 167,\n",
              " 2,\n",
              " 336,\n",
              " 385,\n",
              " 39,\n",
              " 4,\n",
              " 172,\n",
              " 4536,\n",
              " 1111,\n",
              " 17,\n",
              " 546,\n",
              " 38,\n",
              " 13,\n",
              " 447,\n",
              " 4,\n",
              " 192,\n",
              " 50,\n",
              " 16,\n",
              " 6,\n",
              " 147,\n",
              " 2025,\n",
              " 19,\n",
              " 14,\n",
              " 22,\n",
              " 4,\n",
              " 1920,\n",
              " 4613,\n",
              " 469,\n",
              " 4,\n",
              " 22,\n",
              " 71,\n",
              " 87,\n",
              " 12,\n",
              " 16,\n",
              " 43,\n",
              " 530,\n",
              " 38,\n",
              " 76,\n",
              " 15,\n",
              " 13,\n",
              " 1247,\n",
              " 4,\n",
              " 22,\n",
              " 17,\n",
              " 515,\n",
              " 17,\n",
              " 12,\n",
              " 16,\n",
              " 626,\n",
              " 18,\n",
              " 2,\n",
              " 5,\n",
              " 62,\n",
              " 386,\n",
              " 12,\n",
              " 8,\n",
              " 316,\n",
              " 8,\n",
              " 106,\n",
              " 5,\n",
              " 4,\n",
              " 2223,\n",
              " 5244,\n",
              " 16,\n",
              " 480,\n",
              " 66,\n",
              " 3785,\n",
              " 33,\n",
              " 4,\n",
              " 130,\n",
              " 12,\n",
              " 16,\n",
              " 38,\n",
              " 619,\n",
              " 5,\n",
              " 25,\n",
              " 124,\n",
              " 51,\n",
              " 36,\n",
              " 135,\n",
              " 48,\n",
              " 25,\n",
              " 1415,\n",
              " 33,\n",
              " 6,\n",
              " 22,\n",
              " 12,\n",
              " 215,\n",
              " 28,\n",
              " 77,\n",
              " 52,\n",
              " 5,\n",
              " 14,\n",
              " 407,\n",
              " 16,\n",
              " 82,\n",
              " 2,\n",
              " 8,\n",
              " 4,\n",
              " 107,\n",
              " 117,\n",
              " 5952,\n",
              " 15,\n",
              " 256,\n",
              " 4,\n",
              " 2,\n",
              " 7,\n",
              " 3766,\n",
              " 5,\n",
              " 723,\n",
              " 36,\n",
              " 71,\n",
              " 43,\n",
              " 530,\n",
              " 476,\n",
              " 26,\n",
              " 400,\n",
              " 317,\n",
              " 46,\n",
              " 7,\n",
              " 4,\n",
              " 2,\n",
              " 1029,\n",
              " 13,\n",
              " 104,\n",
              " 88,\n",
              " 4,\n",
              " 381,\n",
              " 15,\n",
              " 297,\n",
              " 98,\n",
              " 32,\n",
              " 2071,\n",
              " 56,\n",
              " 26,\n",
              " 141,\n",
              " 6,\n",
              " 194,\n",
              " 7486,\n",
              " 18,\n",
              " 4,\n",
              " 226,\n",
              " 22,\n",
              " 21,\n",
              " 134,\n",
              " 476,\n",
              " 26,\n",
              " 480,\n",
              " 5,\n",
              " 144,\n",
              " 30,\n",
              " 5535,\n",
              " 18,\n",
              " 51,\n",
              " 36,\n",
              " 28,\n",
              " 224,\n",
              " 92,\n",
              " 25,\n",
              " 104,\n",
              " 4,\n",
              " 226,\n",
              " 65,\n",
              " 16,\n",
              " 38,\n",
              " 1334,\n",
              " 88,\n",
              " 12,\n",
              " 16,\n",
              " 283,\n",
              " 5,\n",
              " 16,\n",
              " 4472,\n",
              " 113,\n",
              " 103,\n",
              " 32,\n",
              " 15,\n",
              " 16,\n",
              " 5345,\n",
              " 19,\n",
              " 178,\n",
              " 32]"
            ]
          },
          "metadata": {},
          "execution_count": 3
        }
      ]
    },
    {
      "cell_type": "code",
      "source": [
        "train_labels[0]"
      ],
      "metadata": {
        "colab": {
          "base_uri": "https://localhost:8080/"
        },
        "id": "8fYtqFCIbfUI",
        "outputId": "9ca7cbe1-80d0-4213-b90f-93a41122d391"
      },
      "execution_count": 4,
      "outputs": [
        {
          "output_type": "execute_result",
          "data": {
            "text/plain": [
              "1"
            ]
          },
          "metadata": {},
          "execution_count": 4
        }
      ]
    },
    {
      "cell_type": "markdown",
      "source": [
        "Because we’re restricting ourselves to the top 10,000 most frequent words, no word index will exceed 10,000:"
      ],
      "metadata": {
        "id": "5MJMAeJNDtqG"
      }
    },
    {
      "cell_type": "code",
      "source": [
        "max([max(sequence) for sequence in train_data])"
      ],
      "metadata": {
        "colab": {
          "base_uri": "https://localhost:8080/"
        },
        "id": "XBGLs8fvbjJf",
        "outputId": "370df249-fa56-49b8-fd5b-2895c56cff00"
      },
      "execution_count": 5,
      "outputs": [
        {
          "output_type": "execute_result",
          "data": {
            "text/plain": [
              "9999"
            ]
          },
          "metadata": {},
          "execution_count": 5
        }
      ]
    },
    {
      "cell_type": "markdown",
      "source": [
        "## Decoding reviews back to text"
      ],
      "metadata": {
        "id": "c7z2W6kbD1G5"
      }
    },
    {
      "cell_type": "markdown",
      "source": [
        " 1. word_index is a dictionary mapping words to an integer index.\n",
        "\n",
        " 2. Reverses it, mapping integer indices to words\n",
        "\n",
        " 3. Decodes the review. Note that the indices are offset by 3 because 0, 1, and 2 are reserved indices for “padding,” “start of sequence,” and “unknown.”"
      ],
      "metadata": {
        "id": "kD0xM39_D3F8"
      }
    },
    {
      "cell_type": "code",
      "source": [
        "word_index = imdb.get_word_index() #1\n",
        "reverse_word_index = dict(\n",
        "[(value, key) for (key, value) in word_index.items()]) #2\n",
        "decoded_review = \" \".join(\n",
        "[reverse_word_index.get(i - 3, \"?\") for i in train_data[0]]) #3"
      ],
      "metadata": {
        "colab": {
          "base_uri": "https://localhost:8080/"
        },
        "id": "cMflxccMbmqo",
        "outputId": "3d566e8a-bc78-4327-e290-2a087ceb5e2d"
      },
      "execution_count": 6,
      "outputs": [
        {
          "output_type": "stream",
          "name": "stdout",
          "text": [
            "Downloading data from https://storage.googleapis.com/tensorflow/tf-keras-datasets/imdb_word_index.json\n",
            "1646592/1641221 [==============================] - 0s 0us/step\n",
            "1654784/1641221 [==============================] - 0s 0us/step\n"
          ]
        }
      ]
    },
    {
      "cell_type": "markdown",
      "source": [
        "# Preparing the data"
      ],
      "metadata": {
        "id": "vaOtQ6kFEG5G"
      }
    },
    {
      "cell_type": "markdown",
      "source": [
        "## Encoding the integer sequences via multi-hot encoding"
      ],
      "metadata": {
        "id": "MjID4H1bEMUb"
      }
    },
    {
      "cell_type": "markdown",
      "source": [
        "1. Creates an all-zero matrix of shape (len(sequences), dimension)\n",
        "\n",
        "2. Sets specific indices of results[i] to 1s\n",
        "\n",
        "3. Vectorized training data\n",
        "\n",
        "4. Vectorized test data"
      ],
      "metadata": {
        "id": "Gtvl3j2wEROP"
      }
    },
    {
      "cell_type": "code",
      "source": [
        "def vectorize_sequences(sequences, dimension=10000):\n",
        "    results = np.zeros((len(sequences), dimension)) #1\n",
        "    for i, sequence in enumerate(sequences):\n",
        "        for j in sequence:\n",
        "            results[i, j] = 1. #2\n",
        "    return results\n",
        "x_train = vectorize_sequences(train_data) #3\n",
        "x_test = vectorize_sequences(test_data) #4"
      ],
      "metadata": {
        "id": "O6E4_dzabqOg"
      },
      "execution_count": 7,
      "outputs": []
    },
    {
      "cell_type": "code",
      "source": [
        "x_train[0]"
      ],
      "metadata": {
        "colab": {
          "base_uri": "https://localhost:8080/"
        },
        "id": "7xgtOd2XbtvQ",
        "outputId": "63b4c9ad-6cb6-4984-aa76-25ab5a45462a"
      },
      "execution_count": 8,
      "outputs": [
        {
          "output_type": "execute_result",
          "data": {
            "text/plain": [
              "array([0., 1., 1., ..., 0., 0., 0.])"
            ]
          },
          "metadata": {},
          "execution_count": 8
        }
      ]
    },
    {
      "cell_type": "markdown",
      "source": [
        "We should also vectorize labels"
      ],
      "metadata": {
        "id": "JBwnzo4GEhYH"
      }
    },
    {
      "cell_type": "code",
      "source": [
        "y_train = np.asarray(train_labels).astype(\"float32\")\n",
        "y_test = np.asarray(test_labels).astype(\"float32\")"
      ],
      "metadata": {
        "id": "zUu0DSAMb0J9"
      },
      "execution_count": 9,
      "outputs": []
    },
    {
      "cell_type": "markdown",
      "source": [
        "Now the data is ready to be fed into a neural network"
      ],
      "metadata": {
        "id": "EAfN8FtDEnKV"
      }
    },
    {
      "cell_type": "markdown",
      "source": [
        "# Building your model"
      ],
      "metadata": {
        "id": "AJ4vCCZ4EqQg"
      }
    },
    {
      "cell_type": "markdown",
      "source": [
        "The input data is vector, and the labels are scalars (1s and 0s): this is one of the simplest problem setups we can ever\n",
        "encounter. A type of model that performs well on such a problem is a `plain stack of densely connected (Dense)\n",
        "layers` with `relu activations`.\n",
        "\n",
        "There are two key architecture decisions to be made about such a stack of Dense layers:\n",
        "* How many layers to use\n",
        "* How many units to choose for each layer"
      ],
      "metadata": {
        "id": "pKB_FERCEqYL"
      }
    },
    {
      "cell_type": "markdown",
      "source": [
        "So, here we take\n",
        "\n",
        "* Two intermediate layers with 16 units each\n",
        "* A third layer that will output the scalar prediction regarding the sentiment of the current review"
      ],
      "metadata": {
        "id": "iVXdTTGxEyx4"
      }
    },
    {
      "cell_type": "markdown",
      "source": [
        "## Model definition"
      ],
      "metadata": {
        "id": "Wmp3SYMpFGjX"
      }
    },
    {
      "cell_type": "code",
      "source": [
        "model = keras.Sequential([\n",
        "layers.Dense(16, activation=\"relu\"),\n",
        "layers.Dense(16, activation=\"relu\"),\n",
        "layers.Dense(1, activation=\"sigmoid\")\n",
        "])"
      ],
      "metadata": {
        "id": "le-ozwXeb235"
      },
      "execution_count": 10,
      "outputs": []
    },
    {
      "cell_type": "markdown",
      "source": [
        "## Compiling the model"
      ],
      "metadata": {
        "id": "g3yyetIfFSFu"
      }
    },
    {
      "cell_type": "code",
      "source": [
        "model.compile(optimizer=\"rmsprop\",\n",
        "loss=\"binary_crossentropy\",\n",
        "metrics=[\"accuracy\"])"
      ],
      "metadata": {
        "id": "bG0kVB-GcBKI"
      },
      "execution_count": 13,
      "outputs": []
    },
    {
      "cell_type": "markdown",
      "source": [
        "## Setting aside a validation set"
      ],
      "metadata": {
        "id": "uT5Y2icnFY4u"
      }
    },
    {
      "cell_type": "code",
      "source": [
        "x_val = x_train[:10000]\n",
        "partial_x_train = x_train[10000:]\n",
        "y_val = y_train[:10000]\n",
        "partial_y_train = y_train[10000:]"
      ],
      "metadata": {
        "id": "55RcHCSZcbif"
      },
      "execution_count": 14,
      "outputs": []
    },
    {
      "cell_type": "markdown",
      "source": [
        "## Training your model"
      ],
      "metadata": {
        "id": "k565oiKuFgZ6"
      }
    },
    {
      "cell_type": "code",
      "source": [
        "history = model.fit(partial_x_train,\n",
        "partial_y_train,\n",
        "epochs=20,\n",
        "batch_size=512,\n",
        "validation_data=(x_val, y_val))"
      ],
      "metadata": {
        "colab": {
          "base_uri": "https://localhost:8080/"
        },
        "id": "9ADpCeYWcgki",
        "outputId": "e26ebaba-4002-4ab7-fe42-93f3e23f5a87"
      },
      "execution_count": 15,
      "outputs": [
        {
          "output_type": "stream",
          "name": "stdout",
          "text": [
            "Epoch 1/20\n",
            "30/30 [==============================] - 2s 47ms/step - loss: 0.5004 - accuracy: 0.7842 - val_loss: 0.3565 - val_accuracy: 0.8747\n",
            "Epoch 2/20\n",
            "30/30 [==============================] - 1s 34ms/step - loss: 0.2838 - accuracy: 0.9073 - val_loss: 0.2984 - val_accuracy: 0.8829\n",
            "Epoch 3/20\n",
            "30/30 [==============================] - 1s 34ms/step - loss: 0.2041 - accuracy: 0.9322 - val_loss: 0.3247 - val_accuracy: 0.8683\n",
            "Epoch 4/20\n",
            "30/30 [==============================] - 1s 35ms/step - loss: 0.1614 - accuracy: 0.9460 - val_loss: 0.2797 - val_accuracy: 0.8881\n",
            "Epoch 5/20\n",
            "30/30 [==============================] - 1s 35ms/step - loss: 0.1309 - accuracy: 0.9567 - val_loss: 0.2904 - val_accuracy: 0.8884\n",
            "Epoch 6/20\n",
            "30/30 [==============================] - 1s 35ms/step - loss: 0.1063 - accuracy: 0.9661 - val_loss: 0.3048 - val_accuracy: 0.8818\n",
            "Epoch 7/20\n",
            "30/30 [==============================] - 1s 35ms/step - loss: 0.0872 - accuracy: 0.9730 - val_loss: 0.3671 - val_accuracy: 0.8664\n",
            "Epoch 8/20\n",
            "30/30 [==============================] - 1s 38ms/step - loss: 0.0723 - accuracy: 0.9791 - val_loss: 0.3620 - val_accuracy: 0.8784\n",
            "Epoch 9/20\n",
            "30/30 [==============================] - 1s 35ms/step - loss: 0.0573 - accuracy: 0.9847 - val_loss: 0.3836 - val_accuracy: 0.8730\n",
            "Epoch 10/20\n",
            "30/30 [==============================] - 1s 35ms/step - loss: 0.0461 - accuracy: 0.9878 - val_loss: 0.4019 - val_accuracy: 0.8771\n",
            "Epoch 11/20\n",
            "30/30 [==============================] - 1s 35ms/step - loss: 0.0376 - accuracy: 0.9905 - val_loss: 0.4644 - val_accuracy: 0.8721\n",
            "Epoch 12/20\n",
            "30/30 [==============================] - 1s 35ms/step - loss: 0.0327 - accuracy: 0.9923 - val_loss: 0.4616 - val_accuracy: 0.8736\n",
            "Epoch 13/20\n",
            "30/30 [==============================] - 1s 35ms/step - loss: 0.0262 - accuracy: 0.9935 - val_loss: 0.4867 - val_accuracy: 0.8730\n",
            "Epoch 14/20\n",
            "30/30 [==============================] - 1s 35ms/step - loss: 0.0217 - accuracy: 0.9953 - val_loss: 0.5197 - val_accuracy: 0.8725\n",
            "Epoch 15/20\n",
            "30/30 [==============================] - 1s 35ms/step - loss: 0.0137 - accuracy: 0.9982 - val_loss: 0.6232 - val_accuracy: 0.8532\n",
            "Epoch 16/20\n",
            "30/30 [==============================] - 1s 35ms/step - loss: 0.0104 - accuracy: 0.9991 - val_loss: 0.5995 - val_accuracy: 0.8612\n",
            "Epoch 17/20\n",
            "30/30 [==============================] - 1s 35ms/step - loss: 0.0126 - accuracy: 0.9973 - val_loss: 0.6115 - val_accuracy: 0.8704\n",
            "Epoch 18/20\n",
            "30/30 [==============================] - 1s 35ms/step - loss: 0.0050 - accuracy: 0.9999 - val_loss: 0.6446 - val_accuracy: 0.8692\n",
            "Epoch 19/20\n",
            "30/30 [==============================] - 1s 34ms/step - loss: 0.0085 - accuracy: 0.9983 - val_loss: 0.6753 - val_accuracy: 0.8680\n",
            "Epoch 20/20\n",
            "30/30 [==============================] - 1s 34ms/step - loss: 0.0030 - accuracy: 0.9999 - val_loss: 0.7239 - val_accuracy: 0.8636\n"
          ]
        }
      ]
    },
    {
      "cell_type": "code",
      "source": [
        "history_dict = history.history"
      ],
      "metadata": {
        "id": "_7-3o_FjcjrC"
      },
      "execution_count": 16,
      "outputs": []
    },
    {
      "cell_type": "code",
      "source": [
        "history_dict.keys()"
      ],
      "metadata": {
        "colab": {
          "base_uri": "https://localhost:8080/"
        },
        "id": "EF688FBccz6Y",
        "outputId": "6ee81473-c467-4bec-e343-c14ce2c54b28"
      },
      "execution_count": 17,
      "outputs": [
        {
          "output_type": "execute_result",
          "data": {
            "text/plain": [
              "dict_keys(['loss', 'accuracy', 'val_loss', 'val_accuracy'])"
            ]
          },
          "metadata": {},
          "execution_count": 17
        }
      ]
    },
    {
      "cell_type": "markdown",
      "source": [
        "**Plotting the training and `validation loss`**"
      ],
      "metadata": {
        "id": "7TZ1B2dzF1QS"
      }
    },
    {
      "cell_type": "code",
      "source": [
        "history_dict = history.history\n",
        "loss_values = history_dict[\"loss\"]\n",
        "val_loss_values = history_dict[\"val_loss\"]\n",
        "epochs = range(1, len(loss_values) + 1)\n",
        "plt.plot(epochs, loss_values, \"bo\", label=\"Training loss\") #1\n",
        "plt.plot(epochs, val_loss_values, \"b\", label=\"Validation loss\") #2\n",
        "plt.title(\"Training and validation loss\")\n",
        "plt.xlabel(\"Epochs\")\n",
        "plt.ylabel(\"Loss\")\n",
        "plt.legend()\n",
        "plt.show()"
      ],
      "metadata": {
        "colab": {
          "base_uri": "https://localhost:8080/",
          "height": 295
        },
        "id": "jMfAmvSSc0rh",
        "outputId": "13bfa7b6-b579-4253-a588-07db5bd59de4"
      },
      "execution_count": 19,
      "outputs": [
        {
          "output_type": "display_data",
          "data": {
            "image/png": "[encoded data removed]",
            "text/plain": [
              "<Figure size 432x288 with 1 Axes>"
            ]
          },
          "metadata": {
            "needs_background": "light"
          }
        }
      ]
    },
    {
      "cell_type": "markdown",
      "source": [
        "**Plotting the training and `validation accuracy`**"
      ],
      "metadata": {
        "id": "GecIX-oZF5U8"
      }
    },
    {
      "cell_type": "code",
      "source": [
        "plt.clf() #Clears the figure\n",
        "acc = history_dict[\"accuracy\"]\n",
        "val_acc = history_dict[\"val_accuracy\"]\n",
        "plt.plot(epochs, acc, \"bo\", label=\"Training acc\")\n",
        "plt.plot(epochs, val_acc, \"b\", label=\"Validation acc\")\n",
        "plt.title(\"Training and validation accuracy\")\n",
        "plt.xlabel(\"Epochs\")\n",
        "plt.ylabel(\"Accuracy\")\n",
        "plt.legend()\n",
        "plt.show()\n",
        "#\"bo\" is for \"blue dot\" and \"b\" is for \"solid blue line\""
      ],
      "metadata": {
        "colab": {
          "base_uri": "https://localhost:8080/",
          "height": 295
        },
        "id": "bnZ_JgIuc_9h",
        "outputId": "645c8eaf-1a39-4b5b-d02f-01c6672e030d"
      },
      "execution_count": 20,
      "outputs": [
        {
          "output_type": "display_data",
          "data": {
            "image/png": "[encoded data removed]",
            "text/plain": [
              "<Figure size 432x288 with 1 Axes>"
            ]
          },
          "metadata": {
            "needs_background": "light"
          }
        }
      ]
    },
    {
      "cell_type": "markdown",
      "source": [
        "**A model that performs better on the training data isn’t necessarily a model that will do better on data it has never seen before. In precise terms, what we’re seeing is `overfitting`: after the `fourth epoch`, we’re overoptimizing on\n",
        "the training data, and we end up learning representations that are specific to the training data and don’t generalize to data outside of the training set.\n",
        "In this case, to prevent overfitting, we could stop training after four epochs.**"
      ],
      "metadata": {
        "id": "bzPr6kWgSnrV"
      }
    },
    {
      "cell_type": "markdown",
      "source": [
        "## Retraining a model from scratch"
      ],
      "metadata": {
        "id": "cDXyEaLcGAFZ"
      }
    },
    {
      "cell_type": "markdown",
      "source": [
        "**Let’s train a new model from scratch for four epochs and then evaluate it on the test data.**"
      ],
      "metadata": {
        "id": "jdru2D-iScV3"
      }
    },
    {
      "cell_type": "code",
      "source": [
        "model = keras.Sequential([\n",
        "layers.Dense(16, activation=\"relu\"),\n",
        "layers.Dense(16, activation=\"relu\"),\n",
        "layers.Dense(1, activation=\"sigmoid\")\n",
        "])\n",
        "model.compile(optimizer=\"rmsprop\",\n",
        "loss=\"binary_crossentropy\",\n",
        "metrics=[\"accuracy\"])\n",
        "model.fit(x_train, y_train, epochs=4, batch_size=512)\n",
        "results = model.evaluate(x_test, y_test)"
      ],
      "metadata": {
        "colab": {
          "base_uri": "https://localhost:8080/"
        },
        "id": "_ETAI2DldYc4",
        "outputId": "b04708e6-ad1e-461d-832d-dc6ac73cfa30"
      },
      "execution_count": 21,
      "outputs": [
        {
          "output_type": "stream",
          "name": "stdout",
          "text": [
            "Epoch 1/4\n",
            "49/49 [==============================] - 2s 28ms/step - loss: 0.4450 - accuracy: 0.8257\n",
            "Epoch 2/4\n",
            "49/49 [==============================] - 1s 28ms/step - loss: 0.2523 - accuracy: 0.9122\n",
            "Epoch 3/4\n",
            "49/49 [==============================] - 1s 28ms/step - loss: 0.1960 - accuracy: 0.9288\n",
            "Epoch 4/4\n",
            "49/49 [==============================] - 1s 28ms/step - loss: 0.1664 - accuracy: 0.9412\n",
            "782/782 [==============================] - 2s 2ms/step - loss: 0.3238 - accuracy: 0.8732\n"
          ]
        }
      ]
    },
    {
      "cell_type": "markdown",
      "source": [
        "The final results are as follows:"
      ],
      "metadata": {
        "id": "Ac3QSk36GO_o"
      }
    },
    {
      "cell_type": "code",
      "source": [
        "results"
      ],
      "metadata": {
        "colab": {
          "base_uri": "https://localhost:8080/"
        },
        "id": "doeiuTKXGJi3",
        "outputId": "fdb884c4-ff0c-4126-c419-af67db8bd478"
      },
      "execution_count": 25,
      "outputs": [
        {
          "output_type": "execute_result",
          "data": {
            "text/plain": [
              "[0.32376953959465027, 0.873199999332428]"
            ]
          },
          "metadata": {},
          "execution_count": 25
        }
      ]
    },
    {
      "cell_type": "markdown",
      "source": [
        "**The first number, 0.32, is the test loss, and the second number, 0.87, is the test accuracy.**"
      ],
      "metadata": {
        "id": "cGCxHGwYGS2L"
      }
    },
    {
      "cell_type": "markdown",
      "source": [
        "## Using a trained model to generate predictions on new data"
      ],
      "metadata": {
        "id": "-VtzWdImGfJW"
      }
    },
    {
      "cell_type": "code",
      "source": [
        "model.predict(x_test)"
      ],
      "metadata": {
        "colab": {
          "base_uri": "https://localhost:8080/"
        },
        "id": "-n9cbO3-ddyx",
        "outputId": "0a05955d-289c-44ae-a725-3a3089bedc46"
      },
      "execution_count": 22,
      "outputs": [
        {
          "output_type": "execute_result",
          "data": {
            "text/plain": [
              "array([[0.26693213],\n",
              "       [0.99968374],\n",
              "       [0.976364  ],\n",
              "       ...,\n",
              "       [0.20383823],\n",
              "       [0.09519681],\n",
              "       [0.7403956 ]], dtype=float32)"
            ]
          },
          "metadata": {},
          "execution_count": 22
        }
      ]
    },
    {
      "cell_type": "markdown",
      "source": [
        "**As we can see, the model is confident for some samples (0.99 or more, or 0.01 or less) but less confident for others(0.6, 0.4).**"
      ],
      "metadata": {
        "id": "h08lLLdye5Bp"
      }
    },
    {
      "cell_type": "code",
      "source": [
        ""
      ],
      "metadata": {
        "id": "NyyivANJGoAG"
      },
      "execution_count": null,
      "outputs": []
    }
  ]
}